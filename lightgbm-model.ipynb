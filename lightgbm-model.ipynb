{
  "cells": [
    {
      "cell_type": "markdown",
      "metadata": {
        "id": "tm0kE6KIJnsZ"
      },
      "source": [
        "# S or R? Unveiling E. Coli’s Cefepime Resistance Patterns\n",
        "###  Anayna Singh\n",
        "December 5, 2024\n",
        "\n"
      ]
    },
    {
      "cell_type": "markdown",
      "metadata": {
        "id": "oRYLxfBjJnsc"
      },
      "source": [
        "Antibiotic resistance is a critical global health challenge,\n",
        "and effective predictive models can aid in understanding\n",
        "and combating it.\n",
        " In this project I built a predictive model for Cefepime\n",
        "Susceptibility (S) vs. Resistance (R) in Escherichia coli."
      ]
    },
    {
      "cell_type": "code",
      "execution_count": 1,
      "metadata": {
        "colab": {
          "base_uri": "https://localhost:8080/"
        },
        "id": "NNAcWk9SJnsd",
        "outputId": "787b7754-66b3-403a-8ea0-8543ca1956c5"
      },
      "outputs": [
        {
          "name": "stderr",
          "output_type": "stream",
          "text": [
            "/usr/local/lib/python3.11/dist-packages/dask/dataframe/__init__.py:42: FutureWarning: \n",
            "Dask dataframe query planning is disabled because dask-expr is not installed.\n",
            "\n",
            "You can install it with `pip install dask[dataframe]` or `conda install dask`.\n",
            "This will raise in a future version.\n",
            "\n",
            "  warnings.warn(msg, FutureWarning)\n"
          ]
        }
      ],
      "source": [
        "# Import necessary libraries\n",
        "import os\n",
        "import pandas as pd\n",
        "import numpy as np\n",
        "import sklearn\n",
        "from sklearn import linear_model\n",
        "from sklearn import tree\n",
        "from sklearn import ensemble\n",
        "from tensorflow import keras\n",
        "from collections import defaultdict\n",
        "from lightgbm import LGBMClassifier\n",
        "from sklearn.ensemble import RandomForestClassifier\n",
        "from sklearn.metrics import classification_report, accuracy_score\n",
        "import shap\n",
        "from sklearn.neighbors import KNeighborsClassifier\n",
        "from sklearn.model_selection import train_test_split\n",
        "from sklearn.model_selection import RandomizedSearchCV, cross_val_score\n",
        "from sklearn.ensemble import GradientBoostingClassifier\n",
        "from tqdm import tqdm"
      ]
    },
    {
      "cell_type": "code",
      "execution_count": 2,
      "metadata": {
        "colab": {
          "base_uri": "https://localhost:8080/"
        },
        "id": "zwGupFoHT8ak",
        "outputId": "0c770c03-a7bf-41fd-c6ac-7d2793da986f"
      },
      "outputs": [
        {
          "name": "stdout",
          "output_type": "stream",
          "text": [
            "Mounted at /content/drive\n"
          ]
        }
      ],
      "source": [
        "from google.colab import drive\n",
        "drive.mount('/content/drive')"
      ]
    },
    {
      "cell_type": "code",
      "execution_count": 3,
      "metadata": {
        "id": "ru4bZ3AAJnse"
      },
      "outputs": [],
      "source": [
        "# Loading the dataset\n",
        "\n",
        "seed = 130\n",
        "\n",
        "def load_data():\n",
        "\n",
        "    # Presence absence features\n",
        "    train_pa_genes = pd.read_csv('/content/drive/MyDrive/Antibiotic_Resistance_Susceptibility/train_test_data/train_pa_genes.csv').set_index('genome_id')\n",
        "    test_pa_genes = pd.read_csv('/content/drive/MyDrive/Antibiotic_Resistance_Susceptibility/train_test_data/test_pa_genes.csv').set_index('genome_id')\n",
        "\n",
        "    # Load Kmer data\n",
        "    train_kmers = np.load('/content/drive/MyDrive/Antibiotic_Resistance_Susceptibility/train_test_data/train_kmers.npy', allow_pickle=True)\n",
        "    test_kmers = np.load('/content/drive/MyDrive/Antibiotic_Resistance_Susceptibility/train_test_data/test_kmers.npy', allow_pickle=True)\n",
        "\n",
        "    # Load target data & IDs\n",
        "    y_train = np.load('/content/drive/MyDrive/Antibiotic_Resistance_Susceptibility/train_test_data/y_train.npy', allow_pickle=True)\n",
        "    y_train_ids = np.load('/content/drive/MyDrive/Antibiotic_Resistance_Susceptibility/train_test_data/train_ids.npy', allow_pickle=True).astype(str)\n",
        "    y_test_ids = np.load('/content/drive/MyDrive/Antibiotic_Resistance_Susceptibility/train_test_data/test_ids.npy', allow_pickle=True).astype(str)\n",
        "\n",
        "    # Load raw gene data for optional neural network section\n",
        "    train_gene_alignment = pd.read_csv('/content/drive/MyDrive/Antibiotic_Resistance_Susceptibility/train_test_data/train_genes.csv')\n",
        "\n",
        "    return train_pa_genes, test_pa_genes, train_kmers, test_kmers, y_train, y_train_ids, y_test_ids, train_gene_alignment\n",
        "\n",
        "train_pa_genes, test_pa_genes, X_train_kmers, X_test_kmers, y_train, y_train_ids, y_test_ids, train_gene_alignment = load_data()"
      ]
    },
    {
      "cell_type": "code",
      "execution_count": 4,
      "metadata": {
        "id": "PWPtQykmJnsf"
      },
      "outputs": [],
      "source": [
        "# Dataset Processing\n",
        "\n",
        "X_train_pa = np.array(train_pa_genes)\n",
        "X_test_pa = np.array(test_pa_genes)"
      ]
    },
    {
      "cell_type": "code",
      "execution_count": 5,
      "metadata": {
        "colab": {
          "base_uri": "https://localhost:8080/",
          "height": 363
        },
        "id": "73t7Pc92Jnsf",
        "outputId": "7659b5cc-4da1-4198-fb2e-33728b7db584"
      },
      "outputs": [
        {
          "data": {
            "application/vnd.google.colaboratory.intrinsic+json": {
              "summary": "{\n  \"name\": \"pd\",\n  \"rows\": 10,\n  \"fields\": [\n    {\n      \"column\": \"y_train\",\n      \"properties\": {\n        \"dtype\": \"object\",\n        \"semantic_type\": \"\",\n        \"description\": \"\"\n      }\n    },\n    {\n      \"column\": \"weight\",\n      \"properties\": {\n        \"dtype\": \"number\",\n        \"std\": 0.9022887984308928,\n        \"min\": 0.6254180602006689,\n        \"max\": 2.493333333333333,\n        \"num_unique_values\": 2,\n        \"samples\": [\n          2.493333333333333,\n          0.6254180602006689\n        ],\n        \"semantic_type\": \"\",\n        \"description\": \"\"\n      }\n    }\n  ]\n}",
              "type": "dataframe"
            },
            "text/html": [
              "\n",
              "  <div id=\"df-04767a73-634c-4405-b1e2-f6dfb3d1ae16\" class=\"colab-df-container\">\n",
              "    <div>\n",
              "<style scoped>\n",
              "    .dataframe tbody tr th:only-of-type {\n",
              "        vertical-align: middle;\n",
              "    }\n",
              "\n",
              "    .dataframe tbody tr th {\n",
              "        vertical-align: top;\n",
              "    }\n",
              "\n",
              "    .dataframe thead th {\n",
              "        text-align: right;\n",
              "    }\n",
              "</style>\n",
              "<table border=\"1\" class=\"dataframe\">\n",
              "  <thead>\n",
              "    <tr style=\"text-align: right;\">\n",
              "      <th></th>\n",
              "      <th>y_train</th>\n",
              "      <th>weight</th>\n",
              "    </tr>\n",
              "  </thead>\n",
              "  <tbody>\n",
              "    <tr>\n",
              "      <th>0</th>\n",
              "      <td>[S]</td>\n",
              "      <td>0.625418</td>\n",
              "    </tr>\n",
              "    <tr>\n",
              "      <th>1</th>\n",
              "      <td>[S]</td>\n",
              "      <td>0.625418</td>\n",
              "    </tr>\n",
              "    <tr>\n",
              "      <th>2</th>\n",
              "      <td>[S]</td>\n",
              "      <td>0.625418</td>\n",
              "    </tr>\n",
              "    <tr>\n",
              "      <th>3</th>\n",
              "      <td>[S]</td>\n",
              "      <td>0.625418</td>\n",
              "    </tr>\n",
              "    <tr>\n",
              "      <th>4</th>\n",
              "      <td>[S]</td>\n",
              "      <td>0.625418</td>\n",
              "    </tr>\n",
              "    <tr>\n",
              "      <th>5</th>\n",
              "      <td>[S]</td>\n",
              "      <td>0.625418</td>\n",
              "    </tr>\n",
              "    <tr>\n",
              "      <th>6</th>\n",
              "      <td>[R]</td>\n",
              "      <td>2.493333</td>\n",
              "    </tr>\n",
              "    <tr>\n",
              "      <th>7</th>\n",
              "      <td>[S]</td>\n",
              "      <td>0.625418</td>\n",
              "    </tr>\n",
              "    <tr>\n",
              "      <th>8</th>\n",
              "      <td>[R]</td>\n",
              "      <td>2.493333</td>\n",
              "    </tr>\n",
              "    <tr>\n",
              "      <th>9</th>\n",
              "      <td>[R]</td>\n",
              "      <td>2.493333</td>\n",
              "    </tr>\n",
              "  </tbody>\n",
              "</table>\n",
              "</div>\n",
              "    <div class=\"colab-df-buttons\">\n",
              "\n",
              "  <div class=\"colab-df-container\">\n",
              "    <button class=\"colab-df-convert\" onclick=\"convertToInteractive('df-04767a73-634c-4405-b1e2-f6dfb3d1ae16')\"\n",
              "            title=\"Convert this dataframe to an interactive table.\"\n",
              "            style=\"display:none;\">\n",
              "\n",
              "  <svg xmlns=\"http://www.w3.org/2000/svg\" height=\"24px\" viewBox=\"0 -960 960 960\">\n",
              "    <path d=\"M120-120v-720h720v720H120Zm60-500h600v-160H180v160Zm220 220h160v-160H400v160Zm0 220h160v-160H400v160ZM180-400h160v-160H180v160Zm440 0h160v-160H620v160ZM180-180h160v-160H180v160Zm440 0h160v-160H620v160Z\"/>\n",
              "  </svg>\n",
              "    </button>\n",
              "\n",
              "  <style>\n",
              "    .colab-df-container {\n",
              "      display:flex;\n",
              "      gap: 12px;\n",
              "    }\n",
              "\n",
              "    .colab-df-convert {\n",
              "      background-color: #E8F0FE;\n",
              "      border: none;\n",
              "      border-radius: 50%;\n",
              "      cursor: pointer;\n",
              "      display: none;\n",
              "      fill: #1967D2;\n",
              "      height: 32px;\n",
              "      padding: 0 0 0 0;\n",
              "      width: 32px;\n",
              "    }\n",
              "\n",
              "    .colab-df-convert:hover {\n",
              "      background-color: #E2EBFA;\n",
              "      box-shadow: 0px 1px 2px rgba(60, 64, 67, 0.3), 0px 1px 3px 1px rgba(60, 64, 67, 0.15);\n",
              "      fill: #174EA6;\n",
              "    }\n",
              "\n",
              "    .colab-df-buttons div {\n",
              "      margin-bottom: 4px;\n",
              "    }\n",
              "\n",
              "    [theme=dark] .colab-df-convert {\n",
              "      background-color: #3B4455;\n",
              "      fill: #D2E3FC;\n",
              "    }\n",
              "\n",
              "    [theme=dark] .colab-df-convert:hover {\n",
              "      background-color: #434B5C;\n",
              "      box-shadow: 0px 1px 3px 1px rgba(0, 0, 0, 0.15);\n",
              "      filter: drop-shadow(0px 1px 2px rgba(0, 0, 0, 0.3));\n",
              "      fill: #FFFFFF;\n",
              "    }\n",
              "  </style>\n",
              "\n",
              "    <script>\n",
              "      const buttonEl =\n",
              "        document.querySelector('#df-04767a73-634c-4405-b1e2-f6dfb3d1ae16 button.colab-df-convert');\n",
              "      buttonEl.style.display =\n",
              "        google.colab.kernel.accessAllowed ? 'block' : 'none';\n",
              "\n",
              "      async function convertToInteractive(key) {\n",
              "        const element = document.querySelector('#df-04767a73-634c-4405-b1e2-f6dfb3d1ae16');\n",
              "        const dataTable =\n",
              "          await google.colab.kernel.invokeFunction('convertToInteractive',\n",
              "                                                    [key], {});\n",
              "        if (!dataTable) return;\n",
              "\n",
              "        const docLinkHtml = 'Like what you see? Visit the ' +\n",
              "          '<a target=\"_blank\" href=https://colab.research.google.com/notebooks/data_table.ipynb>data table notebook</a>'\n",
              "          + ' to learn more about interactive tables.';\n",
              "        element.innerHTML = '';\n",
              "        dataTable['output_type'] = 'display_data';\n",
              "        await google.colab.output.renderOutput(dataTable, element);\n",
              "        const docLink = document.createElement('div');\n",
              "        docLink.innerHTML = docLinkHtml;\n",
              "        element.appendChild(docLink);\n",
              "      }\n",
              "    </script>\n",
              "  </div>\n",
              "\n",
              "\n",
              "<div id=\"df-248e5bee-bbe8-47c5-be99-3d1b794aaf08\">\n",
              "  <button class=\"colab-df-quickchart\" onclick=\"quickchart('df-248e5bee-bbe8-47c5-be99-3d1b794aaf08')\"\n",
              "            title=\"Suggest charts\"\n",
              "            style=\"display:none;\">\n",
              "\n",
              "<svg xmlns=\"http://www.w3.org/2000/svg\" height=\"24px\"viewBox=\"0 0 24 24\"\n",
              "     width=\"24px\">\n",
              "    <g>\n",
              "        <path d=\"M19 3H5c-1.1 0-2 .9-2 2v14c0 1.1.9 2 2 2h14c1.1 0 2-.9 2-2V5c0-1.1-.9-2-2-2zM9 17H7v-7h2v7zm4 0h-2V7h2v10zm4 0h-2v-4h2v4z\"/>\n",
              "    </g>\n",
              "</svg>\n",
              "  </button>\n",
              "\n",
              "<style>\n",
              "  .colab-df-quickchart {\n",
              "      --bg-color: #E8F0FE;\n",
              "      --fill-color: #1967D2;\n",
              "      --hover-bg-color: #E2EBFA;\n",
              "      --hover-fill-color: #174EA6;\n",
              "      --disabled-fill-color: #AAA;\n",
              "      --disabled-bg-color: #DDD;\n",
              "  }\n",
              "\n",
              "  [theme=dark] .colab-df-quickchart {\n",
              "      --bg-color: #3B4455;\n",
              "      --fill-color: #D2E3FC;\n",
              "      --hover-bg-color: #434B5C;\n",
              "      --hover-fill-color: #FFFFFF;\n",
              "      --disabled-bg-color: #3B4455;\n",
              "      --disabled-fill-color: #666;\n",
              "  }\n",
              "\n",
              "  .colab-df-quickchart {\n",
              "    background-color: var(--bg-color);\n",
              "    border: none;\n",
              "    border-radius: 50%;\n",
              "    cursor: pointer;\n",
              "    display: none;\n",
              "    fill: var(--fill-color);\n",
              "    height: 32px;\n",
              "    padding: 0;\n",
              "    width: 32px;\n",
              "  }\n",
              "\n",
              "  .colab-df-quickchart:hover {\n",
              "    background-color: var(--hover-bg-color);\n",
              "    box-shadow: 0 1px 2px rgba(60, 64, 67, 0.3), 0 1px 3px 1px rgba(60, 64, 67, 0.15);\n",
              "    fill: var(--button-hover-fill-color);\n",
              "  }\n",
              "\n",
              "  .colab-df-quickchart-complete:disabled,\n",
              "  .colab-df-quickchart-complete:disabled:hover {\n",
              "    background-color: var(--disabled-bg-color);\n",
              "    fill: var(--disabled-fill-color);\n",
              "    box-shadow: none;\n",
              "  }\n",
              "\n",
              "  .colab-df-spinner {\n",
              "    border: 2px solid var(--fill-color);\n",
              "    border-color: transparent;\n",
              "    border-bottom-color: var(--fill-color);\n",
              "    animation:\n",
              "      spin 1s steps(1) infinite;\n",
              "  }\n",
              "\n",
              "  @keyframes spin {\n",
              "    0% {\n",
              "      border-color: transparent;\n",
              "      border-bottom-color: var(--fill-color);\n",
              "      border-left-color: var(--fill-color);\n",
              "    }\n",
              "    20% {\n",
              "      border-color: transparent;\n",
              "      border-left-color: var(--fill-color);\n",
              "      border-top-color: var(--fill-color);\n",
              "    }\n",
              "    30% {\n",
              "      border-color: transparent;\n",
              "      border-left-color: var(--fill-color);\n",
              "      border-top-color: var(--fill-color);\n",
              "      border-right-color: var(--fill-color);\n",
              "    }\n",
              "    40% {\n",
              "      border-color: transparent;\n",
              "      border-right-color: var(--fill-color);\n",
              "      border-top-color: var(--fill-color);\n",
              "    }\n",
              "    60% {\n",
              "      border-color: transparent;\n",
              "      border-right-color: var(--fill-color);\n",
              "    }\n",
              "    80% {\n",
              "      border-color: transparent;\n",
              "      border-right-color: var(--fill-color);\n",
              "      border-bottom-color: var(--fill-color);\n",
              "    }\n",
              "    90% {\n",
              "      border-color: transparent;\n",
              "      border-bottom-color: var(--fill-color);\n",
              "    }\n",
              "  }\n",
              "</style>\n",
              "\n",
              "  <script>\n",
              "    async function quickchart(key) {\n",
              "      const quickchartButtonEl =\n",
              "        document.querySelector('#' + key + ' button');\n",
              "      quickchartButtonEl.disabled = true;  // To prevent multiple clicks.\n",
              "      quickchartButtonEl.classList.add('colab-df-spinner');\n",
              "      try {\n",
              "        const charts = await google.colab.kernel.invokeFunction(\n",
              "            'suggestCharts', [key], {});\n",
              "      } catch (error) {\n",
              "        console.error('Error during call to suggestCharts:', error);\n",
              "      }\n",
              "      quickchartButtonEl.classList.remove('colab-df-spinner');\n",
              "      quickchartButtonEl.classList.add('colab-df-quickchart-complete');\n",
              "    }\n",
              "    (() => {\n",
              "      let quickchartButtonEl =\n",
              "        document.querySelector('#df-248e5bee-bbe8-47c5-be99-3d1b794aaf08 button');\n",
              "      quickchartButtonEl.style.display =\n",
              "        google.colab.kernel.accessAllowed ? 'block' : 'none';\n",
              "    })();\n",
              "  </script>\n",
              "</div>\n",
              "\n",
              "    </div>\n",
              "  </div>\n"
            ],
            "text/plain": [
              "  y_train    weight\n",
              "0     [S]  0.625418\n",
              "1     [S]  0.625418\n",
              "2     [S]  0.625418\n",
              "3     [S]  0.625418\n",
              "4     [S]  0.625418\n",
              "5     [S]  0.625418\n",
              "6     [R]  2.493333\n",
              "7     [S]  0.625418\n",
              "8     [R]  2.493333\n",
              "9     [R]  2.493333"
            ]
          },
          "execution_count": 5,
          "metadata": {},
          "output_type": "execute_result"
        }
      ],
      "source": [
        "# Sample Weighting\n",
        "\n",
        "sample_weights = sklearn.utils.class_weight.compute_sample_weight(\"balanced\", y_train)\n",
        "\n",
        "# Check the weights for a few samples\n",
        "pd.DataFrame(list(zip(y_train[0:10], sample_weights[0:10])), columns=['y_train', 'weight'])"
      ]
    },
    {
      "cell_type": "markdown",
      "metadata": {
        "id": "Ho_8OSTBJnsg"
      },
      "source": [
        "Used sample weighting here to deal with the imbalanced classes and checked the weights to make sure they're sensible with R being upweighted and S downweighted."
      ]
    },
    {
      "cell_type": "code",
      "execution_count": 6,
      "metadata": {
        "id": "kImaDAgrJnsg"
      },
      "outputs": [],
      "source": [
        "# Combine PA features and k-mer features\n",
        "X_train = np.hstack((X_train_pa, X_train_kmers))\n",
        "X_train = X_train.astype(np.float32)\n",
        "X_test = np.hstack((X_test_pa, X_test_kmers))\n",
        "X_test = X_test.astype(np.float32)"
      ]
    },
    {
      "cell_type": "markdown",
      "metadata": {
        "id": "ZVkYHPduJnsg"
      },
      "source": [
        "Joined the features presence-absence data (genes) and k-mer representations together into a single feature matrix."
      ]
    },
    {
      "cell_type": "markdown",
      "metadata": {
        "id": "U2dFR_HYJnsh"
      },
      "source": [
        "Feature Importance"
      ]
    },
    {
      "cell_type": "code",
      "execution_count": 7,
      "metadata": {
        "colab": {
          "base_uri": "https://localhost:8080/",
          "height": 532
        },
        "id": "dYCx6TxaJnsh",
        "outputId": "1de0c81f-d70e-4226-fee8-968398f42749"
      },
      "outputs": [
        {
          "name": "stderr",
          "output_type": "stream",
          "text": [
            "/usr/local/lib/python3.11/dist-packages/sklearn/base.py:1389: DataConversionWarning: A column-vector y was passed when a 1d array was expected. Please change the shape of y to (n_samples,), for example using ravel().\n",
            "  return fit_method(estimator, *args, **kwargs)\n"
          ]
        },
        {
          "name": "stdout",
          "output_type": "stream",
          "text": [
            "Total PA Feature Importance: 0.00\n",
            "Total k-mer Feature Importance: 1.00\n"
          ]
        },
        {
          "data": {
            "image/png": "[encoded data removed]",
            "text/plain": [
              "<Figure size 1200x600 with 2 Axes>"
            ]
          },
          "metadata": {},
          "output_type": "display_data"
        }
      ],
      "source": [
        "\n",
        "# Step 1: Train a Random Forest model\n",
        "rf_model = RandomForestClassifier(random_state=seed, n_estimators=100, class_weight=\"balanced\")\n",
        "rf_model.fit(X_train, y_train, sample_weight=sample_weights)\n",
        "\n",
        "# Step 2: Calculate feature importances\n",
        "feature_importances = rf_model.feature_importances_\n",
        "\n",
        "# Step 3: Separate PA and k-mer feature importance\n",
        "num_pa_features = X_train_pa.shape[1]\n",
        "pa_importances = feature_importances[:num_pa_features]\n",
        "kmer_importances = feature_importances[num_pa_features:]\n",
        "\n",
        "# Aggregate importance by feature type\n",
        "total_pa_importance = np.sum(pa_importances)\n",
        "total_kmer_importance = np.sum(kmer_importances)\n",
        "\n",
        "# Display results\n",
        "print(\"Total PA Feature Importance: {:.2f}\".format(total_pa_importance))\n",
        "print(\"Total k-mer Feature Importance: {:.2f}\".format(total_kmer_importance))\n",
        "\n",
        "# Step 4: Visualize feature importances (Optional)\n",
        "import matplotlib.pyplot as plt\n",
        "\n",
        "# Sort PA and k-mer importances for visualization\n",
        "sorted_pa_idx = np.argsort(pa_importances)[::-1]\n",
        "sorted_kmer_idx = np.argsort(kmer_importances)[::-1]\n",
        "\n",
        "plt.figure(figsize=(12, 6))\n",
        "\n",
        "# Plot top 10 PA features\n",
        "plt.subplot(1, 2, 1)\n",
        "plt.barh(range(10), pa_importances[sorted_pa_idx[:10]])\n",
        "plt.yticks(range(10), [f\"PA {i}\" for i in sorted_pa_idx[:10]])\n",
        "plt.title(\"Top 10 PA Feature Importances\")\n",
        "plt.xlabel(\"Importance\")\n",
        "\n",
        "# Plot top 10 k-mer features\n",
        "plt.subplot(1, 2, 2)\n",
        "plt.barh(range(10), kmer_importances[sorted_kmer_idx[:10]])\n",
        "plt.yticks(range(10), [f\"k-mer {i}\" for i in sorted_kmer_idx[:10]])\n",
        "plt.title(\"Top 10 k-mer Feature Importances\")\n",
        "plt.xlabel(\"Importance\")\n",
        "\n",
        "plt.tight_layout()\n",
        "plt.show()"
      ]
    },
    {
      "cell_type": "markdown",
      "metadata": {
        "id": "y7X0rHo0Jnsh"
      },
      "source": [
        "Baseline model"
      ]
    },
    {
      "cell_type": "code",
      "execution_count": 8,
      "metadata": {
        "id": "smOhtM_nJnsh"
      },
      "outputs": [],
      "source": [
        "# Split the training data (X_train, y_train) into 80% for training and 20% for testing\n",
        "X_train_new, X_test_new, y_train_new, y_test_new = train_test_split(\n",
        "    X_train, y_train, test_size=0.2, random_state=42)"
      ]
    },
    {
      "cell_type": "code",
      "execution_count": 9,
      "metadata": {
        "colab": {
          "base_uri": "https://localhost:8080/"
        },
        "id": "qzbM4O7UJnsh",
        "outputId": "2bcdd6cb-7284-4b20-ae8a-8247a887a970"
      },
      "outputs": [
        {
          "name": "stderr",
          "output_type": "stream",
          "text": [
            "/usr/local/lib/python3.11/dist-packages/sklearn/neighbors/_classification.py:239: DataConversionWarning: A column-vector y was passed when a 1d array was expected. Please change the shape of y to (n_samples,), for example using ravel().\n",
            "  return self._fit(X, y)\n"
          ]
        },
        {
          "name": "stdout",
          "output_type": "stream",
          "text": [
            "KNN Model Accuracy: 86.00%\n",
            "              precision    recall  f1-score   support\n",
            "\n",
            "           R       0.76      0.56      0.64        34\n",
            "           S       0.88      0.95      0.91       116\n",
            "\n",
            "    accuracy                           0.86       150\n",
            "   macro avg       0.82      0.75      0.78       150\n",
            "weighted avg       0.85      0.86      0.85       150\n",
            "\n"
          ]
        }
      ],
      "source": [
        "# Initialize the KNN model\n",
        "knn_model = KNeighborsClassifier(n_neighbors=5)\n",
        "\n",
        "# Train the model\n",
        "knn_model.fit(X_train_new, y_train_new)\n",
        "\n",
        "# Make predictions\n",
        "y_pred = knn_model.predict(X_test_new)\n",
        "\n",
        "# Evaluate the model\n",
        "accuracy = accuracy_score(y_test_new, y_pred)\n",
        "print(\"KNN Model Accuracy: {:.2f}%\".format(accuracy * 100))\n",
        "\n",
        "# Display classification report\n",
        "print(classification_report(y_test_new, y_pred))"
      ]
    },
    {
      "cell_type": "markdown",
      "metadata": {
        "id": "peUmzqnFJnsi"
      },
      "source": [
        "LightGBM model"
      ]
    },
    {
      "cell_type": "code",
      "execution_count": 10,
      "metadata": {
        "id": "-ElGxWtvVpIx"
      },
      "outputs": [],
      "source": [
        "seed = 42  # Random seed\n",
        "\n",
        "# Subsample the data (reduce dataset size for testing)\n",
        "from sklearn.model_selection import train_test_split\n",
        "X_sample, _, y_sample, _ = train_test_split(X_train_new, y_train_new, test_size=0.7, random_state=seed, stratify=y_train_new)"
      ]
    },
    {
      "cell_type": "code",
      "execution_count": 11,
      "metadata": {
        "id": "hv46m4JPWeNX"
      },
      "outputs": [],
      "source": [
        "# Function for tuning\n",
        "def tune_model_randomized(model, param_distributions, X, y, n_iter=10, cv=3):\n",
        "    random_search = RandomizedSearchCV(\n",
        "        model, param_distributions, n_iter=n_iter, cv=cv,\n",
        "        scoring='accuracy', random_state=seed, n_jobs=-1, verbose=1\n",
        "    )\n",
        "    random_search.fit(X, y)\n",
        "    return random_search.best_estimator_, random_search.best_score_"
      ]
    },
    {
      "cell_type": "code",
      "execution_count": 15,
      "metadata": {
        "colab": {
          "base_uri": "https://localhost:8080/"
        },
        "id": "0F7j7CL3j7t3",
        "outputId": "a88cbed0-3af3-423b-c472-4bfe1f133af2"
      },
      "outputs": [
        {
          "name": "stdout",
          "output_type": "stream",
          "text": [
            "Fitting the model...\n",
            "\n",
            "[LightGBM] [Info] Number of positive: 113, number of negative: 30\n",
            "[LightGBM] [Info] Auto-choosing row-wise multi-threading, the overhead of testing was 0.141048 seconds.\n",
            "You can set `force_row_wise=true` to remove the overhead.\n",
            "And if memory is not enough, you can set `force_col_wise=true`.\n",
            "[LightGBM] [Info] Total Bins 181832\n",
            "[LightGBM] [Info] Number of data points in the train set: 143, number of used features: 79365\n",
            "[LightGBM] [Info] [binary:BoostFromScore]: pavg=0.790210 -> initscore=1.326190\n",
            "[LightGBM] [Info] Start training from score 1.326190\n",
            "[LightGBM] [Warning] No further splits with positive gain, best gain: -inf\n",
            "[LightGBM] [Warning] No further splits with positive gain, best gain: -inf\n",
            "[LightGBM] [Warning] No further splits with positive gain, best gain: -inf\n",
            "[LightGBM] [Warning] No further splits with positive gain, best gain: -inf\n",
            "[LightGBM] [Warning] No further splits with positive gain, best gain: -inf\n",
            "[LightGBM] [Warning] No further splits with positive gain, best gain: -inf\n",
            "[LightGBM] [Warning] No further splits with positive gain, best gain: -inf\n",
            "[LightGBM] [Warning] No further splits with positive gain, best gain: -inf\n",
            "[LightGBM] [Warning] No further splits with positive gain, best gain: -inf\n",
            "[LightGBM] [Warning] No further splits with positive gain, best gain: -inf\n",
            "[LightGBM] [Warning] No further splits with positive gain, best gain: -inf\n",
            "[LightGBM] [Warning] No further splits with positive gain, best gain: -inf\n",
            "[LightGBM] [Warning] No further splits with positive gain, best gain: -inf\n",
            "[LightGBM] [Warning] No further splits with positive gain, best gain: -inf\n",
            "[LightGBM] [Warning] No further splits with positive gain, best gain: -inf\n",
            "[LightGBM] [Warning] No further splits with positive gain, best gain: -inf\n",
            "[LightGBM] [Warning] No further splits with positive gain, best gain: -inf\n",
            "[LightGBM] [Warning] No further splits with positive gain, best gain: -inf\n",
            "[LightGBM] [Warning] No further splits with positive gain, best gain: -inf\n",
            "[LightGBM] [Warning] No further splits with positive gain, best gain: -inf\n",
            "[LightGBM] [Warning] No further splits with positive gain, best gain: -inf\n",
            "[LightGBM] [Warning] No further splits with positive gain, best gain: -inf\n",
            "[LightGBM] [Warning] No further splits with positive gain, best gain: -inf\n",
            "[LightGBM] [Warning] No further splits with positive gain, best gain: -inf\n",
            "[LightGBM] [Warning] No further splits with positive gain, best gain: -inf\n",
            "[LightGBM] [Warning] No further splits with positive gain, best gain: -inf\n",
            "[LightGBM] [Warning] No further splits with positive gain, best gain: -inf\n",
            "[LightGBM] [Warning] No further splits with positive gain, best gain: -inf\n",
            "[LightGBM] [Warning] No further splits with positive gain, best gain: -inf\n",
            "[LightGBM] [Warning] No further splits with positive gain, best gain: -inf\n",
            "[LightGBM] [Warning] No further splits with positive gain, best gain: -inf\n",
            "[LightGBM] [Warning] No further splits with positive gain, best gain: -inf\n",
            "[LightGBM] [Warning] No further splits with positive gain, best gain: -inf\n",
            "[LightGBM] [Warning] No further splits with positive gain, best gain: -inf\n",
            "[LightGBM] [Warning] No further splits with positive gain, best gain: -inf\n",
            "[LightGBM] [Warning] No further splits with positive gain, best gain: -inf\n",
            "[LightGBM] [Warning] No further splits with positive gain, best gain: -inf\n",
            "[LightGBM] [Warning] No further splits with positive gain, best gain: -inf\n",
            "[LightGBM] [Warning] No further splits with positive gain, best gain: -inf\n",
            "[LightGBM] [Warning] No further splits with positive gain, best gain: -inf\n",
            "[LightGBM] [Warning] No further splits with positive gain, best gain: -inf\n",
            "[LightGBM] [Warning] No further splits with positive gain, best gain: -inf\n",
            "[LightGBM] [Warning] No further splits with positive gain, best gain: -inf\n",
            "[LightGBM] [Warning] No further splits with positive gain, best gain: -inf\n",
            "[LightGBM] [Warning] No further splits with positive gain, best gain: -inf\n",
            "[LightGBM] [Warning] No further splits with positive gain, best gain: -inf\n",
            "[LightGBM] [Warning] No further splits with positive gain, best gain: -inf\n",
            "[LightGBM] [Warning] No further splits with positive gain, best gain: -inf\n",
            "[LightGBM] [Warning] No further splits with positive gain, best gain: -inf\n",
            "[LightGBM] [Warning] No further splits with positive gain, best gain: -inf\n",
            "[LightGBM] [Warning] No further splits with positive gain, best gain: -inf\n",
            "[LightGBM] [Warning] No further splits with positive gain, best gain: -inf\n",
            "[LightGBM] [Warning] No further splits with positive gain, best gain: -inf\n",
            "[LightGBM] [Warning] No further splits with positive gain, best gain: -inf\n",
            "[LightGBM] [Warning] No further splits with positive gain, best gain: -inf\n",
            "[LightGBM] [Warning] No further splits with positive gain, best gain: -inf\n",
            "[LightGBM] [Warning] No further splits with positive gain, best gain: -inf\n",
            "[LightGBM] [Warning] No further splits with positive gain, best gain: -inf\n",
            "[LightGBM] [Warning] No further splits with positive gain, best gain: -inf\n",
            "[LightGBM] [Warning] No further splits with positive gain, best gain: -inf\n",
            "[LightGBM] [Warning] No further splits with positive gain, best gain: -inf\n",
            "[LightGBM] [Warning] No further splits with positive gain, best gain: -inf\n",
            "[LightGBM] [Warning] No further splits with positive gain, best gain: -inf\n",
            "[LightGBM] [Warning] No further splits with positive gain, best gain: -inf\n",
            "[LightGBM] [Warning] No further splits with positive gain, best gain: -inf\n",
            "[LightGBM] [Warning] No further splits with positive gain, best gain: -inf\n",
            "[LightGBM] [Warning] No further splits with positive gain, best gain: -inf\n",
            "[LightGBM] [Warning] No further splits with positive gain, best gain: -inf\n",
            "[LightGBM] [Warning] No further splits with positive gain, best gain: -inf\n",
            "[LightGBM] [Warning] No further splits with positive gain, best gain: -inf\n",
            "[LightGBM] [Warning] No further splits with positive gain, best gain: -inf\n",
            "[LightGBM] [Warning] No further splits with positive gain, best gain: -inf\n",
            "[LightGBM] [Warning] No further splits with positive gain, best gain: -inf\n",
            "[LightGBM] [Warning] No further splits with positive gain, best gain: -inf\n",
            "[LightGBM] [Warning] No further splits with positive gain, best gain: -inf\n",
            "[LightGBM] [Warning] No further splits with positive gain, best gain: -inf\n",
            "[LightGBM] [Warning] No further splits with positive gain, best gain: -inf\n",
            "[LightGBM] [Warning] No further splits with positive gain, best gain: -inf\n",
            "[LightGBM] [Warning] No further splits with positive gain, best gain: -inf\n",
            "[LightGBM] [Warning] No further splits with positive gain, best gain: -inf\n",
            "[LightGBM] [Warning] No further splits with positive gain, best gain: -inf\n",
            "[LightGBM] [Warning] No further splits with positive gain, best gain: -inf\n",
            "[LightGBM] [Warning] No further splits with positive gain, best gain: -inf\n",
            "[LightGBM] [Warning] No further splits with positive gain, best gain: -inf\n",
            "[LightGBM] [Warning] No further splits with positive gain, best gain: -inf\n",
            "[LightGBM] [Warning] No further splits with positive gain, best gain: -inf\n",
            "[LightGBM] [Warning] No further splits with positive gain, best gain: -inf\n",
            "[LightGBM] [Warning] No further splits with positive gain, best gain: -inf\n",
            "[LightGBM] [Warning] No further splits with positive gain, best gain: -inf\n",
            "[LightGBM] [Warning] No further splits with positive gain, best gain: -inf\n",
            "[LightGBM] [Warning] No further splits with positive gain, best gain: -inf\n",
            "[LightGBM] [Warning] No further splits with positive gain, best gain: -inf\n",
            "[LightGBM] [Warning] No further splits with positive gain, best gain: -inf\n",
            "[LightGBM] [Warning] No further splits with positive gain, best gain: -inf\n",
            "[LightGBM] [Warning] No further splits with positive gain, best gain: -inf\n",
            "[LightGBM] [Warning] No further splits with positive gain, best gain: -inf\n",
            "[LightGBM] [Warning] No further splits with positive gain, best gain: -inf\n",
            "[LightGBM] [Warning] No further splits with positive gain, best gain: -inf\n",
            "[LightGBM] [Warning] No further splits with positive gain, best gain: -inf\n",
            "[LightGBM] [Warning] No further splits with positive gain, best gain: -inf\n",
            "Model fitting completed.\n",
            "\n",
            "Accuracy on the test set: 0.9167\n"
          ]
        }
      ],
      "source": [
        "import warnings\n",
        "from lightgbm import LGBMClassifier\n",
        "from sklearn.metrics import accuracy_score\n",
        "import numpy as np\n",
        "\n",
        "warnings.filterwarnings(\"ignore\")\n",
        "\n",
        "def fit_model(model, X_train, y_train):\n",
        "    \"\"\"\n",
        "    Fits a model to the training data.\n",
        "\n",
        "    Args:\n",
        "        model: The model to fit.\n",
        "        X_train: The training data.\n",
        "        y_train: The target variable.\n",
        "\n",
        "    Returns:\n",
        "        The trained model.\n",
        "    \"\"\"\n",
        "    print(\"Fitting the model...\\n\")\n",
        "\n",
        "    try:\n",
        "        model.fit(X_train, y_train)\n",
        "        print(\"Model fitting completed.\")\n",
        "    except Exception as e:\n",
        "        print(f\"Error during model fitting: {e}\")\n",
        "        return None\n",
        "\n",
        "    return model\n",
        "\n",
        "lgb_model = LGBMClassifier(random_state=42)\n",
        "\n",
        "# Split the data into training and test sets\n",
        "# Assuming X_sample and y_sample are already defined\n",
        "from sklearn.model_selection import train_test_split\n",
        "\n",
        "X_train, X_test, y_train, y_test = train_test_split(X_sample, y_sample, test_size=0.2, random_state=42)\n",
        "\n",
        "# Fit the model to the training data\n",
        "trained_lgb = fit_model(lgb_model, X_train, y_train)\n",
        "\n",
        "# Evaluate the model on the test set\n",
        "if trained_lgb is not None:\n",
        "    y_pred = trained_lgb.predict(X_test)\n",
        "    accuracy = accuracy_score(y_test, y_pred)\n",
        "    print(f\"\\nAccuracy on the test set: {accuracy:.4f}\")\n",
        "else:\n",
        "    print(\"\\nModel fitting failed.\")\n"
      ]
    }
  ],
  "metadata": {
    "accelerator": "GPU",
    "colab": {
      "gpuType": "T4",
      "provenance": []
    },
    "kernelspec": {
      "display_name": "Python 3",
      "name": "python3"
    },
    "language_info": {
      "codemirror_mode": {
        "name": "ipython",
        "version": 3
      },
      "file_extension": ".py",
      "mimetype": "text/x-python",
      "name": "python",
      "nbconvert_exporter": "python",
      "pygments_lexer": "ipython3",
      "version": "3.10.13"
    }
  },
  "nbformat": 4,
  "nbformat_minor": 0
}
